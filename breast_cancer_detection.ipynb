{
 "cells": [
  {
   "cell_type": "code",
   "execution_count": 1,
   "metadata": {},
   "outputs": [],
   "source": [
    "import pandas as pd\n",
    "import numpy as np\n",
    "\n",
    "from sklearn.datasets import load_breast_cancer\n",
    "from sklearn.preprocessing import StandardScaler\n",
    "\n",
    "from keras.models import Sequential\n",
    "from keras.layers import Dense"
   ]
  },
  {
   "cell_type": "code",
   "execution_count": 2,
   "metadata": {},
   "outputs": [
    {
     "name": "stdout",
     "output_type": "stream",
     "text": [
      "/Users/puranshu/Desktop/breast_cancer_detection\n"
     ]
    }
   ],
   "source": [
    "cd '/Users/puranshu/Desktop/breast_cancer_detection'"
   ]
  },
  {
   "cell_type": "code",
   "execution_count": 4,
   "metadata": {},
   "outputs": [],
   "source": [
    "data = load_breast_cancer()"
   ]
  },
  {
   "cell_type": "code",
   "execution_count": 5,
   "metadata": {},
   "outputs": [
    {
     "data": {
      "text/plain": [
       "dict_keys(['data', 'target', 'frame', 'target_names', 'DESCR', 'feature_names', 'filename'])"
      ]
     },
     "execution_count": 5,
     "metadata": {},
     "output_type": "execute_result"
    }
   ],
   "source": [
    "data.keys()"
   ]
  },
  {
   "cell_type": "code",
   "execution_count": 6,
   "metadata": {},
   "outputs": [
    {
     "name": "stdout",
     "output_type": "stream",
     "text": [
      ".. _breast_cancer_dataset:\n",
      "\n",
      "Breast cancer wisconsin (diagnostic) dataset\n",
      "--------------------------------------------\n",
      "\n",
      "**Data Set Characteristics:**\n",
      "\n",
      "    :Number of Instances: 569\n",
      "\n",
      "    :Number of Attributes: 30 numeric, predictive attributes and the class\n",
      "\n",
      "    :Attribute Information:\n",
      "        - radius (mean of distances from center to points on the perimeter)\n",
      "        - texture (standard deviation of gray-scale values)\n",
      "        - perimeter\n",
      "        - area\n",
      "        - smoothness (local variation in radius lengths)\n",
      "        - compactness (perimeter^2 / area - 1.0)\n",
      "        - concavity (severity of concave portions of the contour)\n",
      "        - concave points (number of concave portions of the contour)\n",
      "        - symmetry\n",
      "        - fractal dimension (\"coastline approximation\" - 1)\n",
      "\n",
      "        The mean, standard error, and \"worst\" or largest (mean of the three\n",
      "        worst/largest values) of these features were computed for each image,\n",
      "        resulting in 30 features.  For instance, field 0 is Mean Radius, field\n",
      "        10 is Radius SE, field 20 is Worst Radius.\n",
      "\n",
      "        - class:\n",
      "                - WDBC-Malignant\n",
      "                - WDBC-Benign\n",
      "\n",
      "    :Summary Statistics:\n",
      "\n",
      "    ===================================== ====== ======\n",
      "                                           Min    Max\n",
      "    ===================================== ====== ======\n",
      "    radius (mean):                        6.981  28.11\n",
      "    texture (mean):                       9.71   39.28\n",
      "    perimeter (mean):                     43.79  188.5\n",
      "    area (mean):                          143.5  2501.0\n",
      "    smoothness (mean):                    0.053  0.163\n",
      "    compactness (mean):                   0.019  0.345\n",
      "    concavity (mean):                     0.0    0.427\n",
      "    concave points (mean):                0.0    0.201\n",
      "    symmetry (mean):                      0.106  0.304\n",
      "    fractal dimension (mean):             0.05   0.097\n",
      "    radius (standard error):              0.112  2.873\n",
      "    texture (standard error):             0.36   4.885\n",
      "    perimeter (standard error):           0.757  21.98\n",
      "    area (standard error):                6.802  542.2\n",
      "    smoothness (standard error):          0.002  0.031\n",
      "    compactness (standard error):         0.002  0.135\n",
      "    concavity (standard error):           0.0    0.396\n",
      "    concave points (standard error):      0.0    0.053\n",
      "    symmetry (standard error):            0.008  0.079\n",
      "    fractal dimension (standard error):   0.001  0.03\n",
      "    radius (worst):                       7.93   36.04\n",
      "    texture (worst):                      12.02  49.54\n",
      "    perimeter (worst):                    50.41  251.2\n",
      "    area (worst):                         185.2  4254.0\n",
      "    smoothness (worst):                   0.071  0.223\n",
      "    compactness (worst):                  0.027  1.058\n",
      "    concavity (worst):                    0.0    1.252\n",
      "    concave points (worst):               0.0    0.291\n",
      "    symmetry (worst):                     0.156  0.664\n",
      "    fractal dimension (worst):            0.055  0.208\n",
      "    ===================================== ====== ======\n",
      "\n",
      "    :Missing Attribute Values: None\n",
      "\n",
      "    :Class Distribution: 212 - Malignant, 357 - Benign\n",
      "\n",
      "    :Creator:  Dr. William H. Wolberg, W. Nick Street, Olvi L. Mangasarian\n",
      "\n",
      "    :Donor: Nick Street\n",
      "\n",
      "    :Date: November, 1995\n",
      "\n",
      "This is a copy of UCI ML Breast Cancer Wisconsin (Diagnostic) datasets.\n",
      "https://goo.gl/U2Uwz2\n",
      "\n",
      "Features are computed from a digitized image of a fine needle\n",
      "aspirate (FNA) of a breast mass.  They describe\n",
      "characteristics of the cell nuclei present in the image.\n",
      "\n",
      "Separating plane described above was obtained using\n",
      "Multisurface Method-Tree (MSM-T) [K. P. Bennett, \"Decision Tree\n",
      "Construction Via Linear Programming.\" Proceedings of the 4th\n",
      "Midwest Artificial Intelligence and Cognitive Science Society,\n",
      "pp. 97-101, 1992], a classification method which uses linear\n",
      "programming to construct a decision tree.  Relevant features\n",
      "were selected using an exhaustive search in the space of 1-4\n",
      "features and 1-3 separating planes.\n",
      "\n",
      "The actual linear program used to obtain the separating plane\n",
      "in the 3-dimensional space is that described in:\n",
      "[K. P. Bennett and O. L. Mangasarian: \"Robust Linear\n",
      "Programming Discrimination of Two Linearly Inseparable Sets\",\n",
      "Optimization Methods and Software 1, 1992, 23-34].\n",
      "\n",
      "This database is also available through the UW CS ftp server:\n",
      "\n",
      "ftp ftp.cs.wisc.edu\n",
      "cd math-prog/cpo-dataset/machine-learn/WDBC/\n",
      "\n",
      ".. topic:: References\n",
      "\n",
      "   - W.N. Street, W.H. Wolberg and O.L. Mangasarian. Nuclear feature extraction \n",
      "     for breast tumor diagnosis. IS&T/SPIE 1993 International Symposium on \n",
      "     Electronic Imaging: Science and Technology, volume 1905, pages 861-870,\n",
      "     San Jose, CA, 1993.\n",
      "   - O.L. Mangasarian, W.N. Street and W.H. Wolberg. Breast cancer diagnosis and \n",
      "     prognosis via linear programming. Operations Research, 43(4), pages 570-577, \n",
      "     July-August 1995.\n",
      "   - W.H. Wolberg, W.N. Street, and O.L. Mangasarian. Machine learning techniques\n",
      "     to diagnose breast cancer from fine-needle aspirates. Cancer Letters 77 (1994) \n",
      "     163-171.\n"
     ]
    }
   ],
   "source": [
    "print(data['DESCR'])"
   ]
  },
  {
   "cell_type": "code",
   "execution_count": 17,
   "metadata": {},
   "outputs": [
    {
     "data": {
      "text/plain": [
       "(569, 30)"
      ]
     },
     "execution_count": 17,
     "metadata": {},
     "output_type": "execute_result"
    }
   ],
   "source": [
    "data['data'].shape"
   ]
  },
  {
   "cell_type": "code",
   "execution_count": 18,
   "metadata": {},
   "outputs": [
    {
     "data": {
      "text/plain": [
       "array(['mean radius', 'mean texture', 'mean perimeter', 'mean area',\n",
       "       'mean smoothness', 'mean compactness', 'mean concavity',\n",
       "       'mean concave points', 'mean symmetry', 'mean fractal dimension',\n",
       "       'radius error', 'texture error', 'perimeter error', 'area error',\n",
       "       'smoothness error', 'compactness error', 'concavity error',\n",
       "       'concave points error', 'symmetry error',\n",
       "       'fractal dimension error', 'worst radius', 'worst texture',\n",
       "       'worst perimeter', 'worst area', 'worst smoothness',\n",
       "       'worst compactness', 'worst concavity', 'worst concave points',\n",
       "       'worst symmetry', 'worst fractal dimension'], dtype='<U23')"
      ]
     },
     "execution_count": 18,
     "metadata": {},
     "output_type": "execute_result"
    }
   ],
   "source": [
    "data['feature_names']"
   ]
  },
  {
   "cell_type": "code",
   "execution_count": 19,
   "metadata": {},
   "outputs": [
    {
     "data": {
      "text/plain": [
       "array([1.799e+01, 1.038e+01, 1.228e+02, 1.001e+03, 1.184e-01, 2.776e-01,\n",
       "       3.001e-01, 1.471e-01, 2.419e-01, 7.871e-02, 1.095e+00, 9.053e-01,\n",
       "       8.589e+00, 1.534e+02, 6.399e-03, 4.904e-02, 5.373e-02, 1.587e-02,\n",
       "       3.003e-02, 6.193e-03, 2.538e+01, 1.733e+01, 1.846e+02, 2.019e+03,\n",
       "       1.622e-01, 6.656e-01, 7.119e-01, 2.654e-01, 4.601e-01, 1.189e-01])"
      ]
     },
     "execution_count": 19,
     "metadata": {},
     "output_type": "execute_result"
    }
   ],
   "source": [
    "data['data'][0]"
   ]
  },
  {
   "cell_type": "code",
   "execution_count": 20,
   "metadata": {},
   "outputs": [
    {
     "name": "stdout",
     "output_type": "stream",
     "text": [
      "mean radius : 17.99\n",
      "mean texture : 10.38\n",
      "mean perimeter : 122.8\n",
      "mean area : 1001.0\n",
      "mean smoothness : 0.1184\n",
      "mean compactness : 0.2776\n",
      "mean concavity : 0.3001\n",
      "mean concave points : 0.1471\n",
      "mean symmetry : 0.2419\n",
      "mean fractal dimension : 0.07871\n",
      "radius error : 1.095\n",
      "texture error : 0.9053\n",
      "perimeter error : 8.589\n",
      "area error : 153.4\n",
      "smoothness error : 0.006399\n",
      "compactness error : 0.04904\n",
      "concavity error : 0.05373\n",
      "concave points error : 0.01587\n",
      "symmetry error : 0.03003\n",
      "fractal dimension error : 0.006193\n",
      "worst radius : 25.38\n",
      "worst texture : 17.33\n",
      "worst perimeter : 184.6\n",
      "worst area : 2019.0\n",
      "worst smoothness : 0.1622\n",
      "worst compactness : 0.6656\n",
      "worst concavity : 0.7119\n",
      "worst concave points : 0.2654\n",
      "worst symmetry : 0.4601\n",
      "worst fractal dimension : 0.1189\n"
     ]
    }
   ],
   "source": [
    "j = 0\n",
    "for i in data['feature_names']:\n",
    "  print(i,\":\",data['data'][0][j])\n",
    "  j+=1"
   ]
  },
  {
   "cell_type": "code",
   "execution_count": 21,
   "metadata": {},
   "outputs": [],
   "source": [
    "feature = data['data']"
   ]
  },
  {
   "cell_type": "code",
   "execution_count": 22,
   "metadata": {},
   "outputs": [],
   "source": [
    "label = data['target']"
   ]
  },
  {
   "cell_type": "code",
   "execution_count": 23,
   "metadata": {},
   "outputs": [
    {
     "data": {
      "text/plain": [
       "array(['malignant', 'benign'], dtype='<U9')"
      ]
     },
     "execution_count": 23,
     "metadata": {},
     "output_type": "execute_result"
    }
   ],
   "source": [
    "data['target_names']"
   ]
  },
  {
   "cell_type": "code",
   "execution_count": 24,
   "metadata": {},
   "outputs": [
    {
     "data": {
      "text/plain": [
       "(569, 30)"
      ]
     },
     "execution_count": 24,
     "metadata": {},
     "output_type": "execute_result"
    }
   ],
   "source": [
    "feature.shape"
   ]
  },
  {
   "cell_type": "code",
   "execution_count": 25,
   "metadata": {},
   "outputs": [
    {
     "data": {
      "text/plain": [
       "(569,)"
      ]
     },
     "execution_count": 25,
     "metadata": {},
     "output_type": "execute_result"
    }
   ],
   "source": [
    "label.shape"
   ]
  },
  {
   "cell_type": "code",
   "execution_count": 26,
   "metadata": {},
   "outputs": [],
   "source": [
    "scale = StandardScaler()\n",
    "\n",
    "feature = scale.fit_transform(feature)"
   ]
  },
  {
   "cell_type": "code",
   "execution_count": 27,
   "metadata": {},
   "outputs": [
    {
     "name": "stdout",
     "output_type": "stream",
     "text": [
      "mean radius : 1.0970639814699807\n",
      "mean texture : -2.0733350146975935\n",
      "mean perimeter : 1.2699336881399383\n",
      "mean area : 0.9843749048031144\n",
      "mean smoothness : 1.568466329243428\n",
      "mean compactness : 3.2835146709868264\n",
      "mean concavity : 2.652873983743168\n",
      "mean concave points : 2.532475216403245\n",
      "mean symmetry : 2.2175150059646405\n",
      "mean fractal dimension : 2.255746885296269\n",
      "radius error : 2.4897339267376193\n",
      "texture error : -0.5652650590684639\n",
      "perimeter error : 2.833030865855184\n",
      "area error : 2.4875775569611043\n",
      "smoothness error : -0.21400164666895383\n",
      "compactness error : 1.3168615683959484\n",
      "concavity error : 0.72402615808036\n",
      "concave points error : 0.6608199414286064\n",
      "symmetry error : 1.1487566671861758\n",
      "fractal dimension error : 0.9070830809973359\n",
      "worst radius : 1.8866896251792757\n",
      "worst texture : -1.3592934737640827\n",
      "worst perimeter : 2.3036006236225606\n",
      "worst area : 2.0012374893299207\n",
      "worst smoothness : 1.3076862710715387\n",
      "worst compactness : 2.616665023512603\n",
      "worst concavity : 2.1095263465722556\n",
      "worst concave points : 2.296076127561788\n",
      "worst symmetry : 2.750622244124955\n",
      "worst fractal dimension : 1.9370146123781782\n"
     ]
    }
   ],
   "source": [
    "j = 0\n",
    "for i in data['feature_names']:\n",
    "  print(i,\":\",feature[0][j])\n",
    "  j+=1"
   ]
  },
  {
   "cell_type": "code",
   "execution_count": 28,
   "metadata": {},
   "outputs": [
    {
     "name": "stdout",
     "output_type": "stream",
     "text": [
      "[-1.80840125  1.22179204 -1.81438851 -1.34778924 -3.11208479 -1.15075248\n",
      " -1.11487284 -1.26181958 -0.8200699  -0.56103238 -0.07027874  0.3830925\n",
      " -0.15744905 -0.46615196  0.04934236 -1.16351619 -1.05750068 -1.91344745\n",
      "  0.75282996 -0.382754   -1.41089258  0.76418957 -1.43273495 -1.07581292\n",
      " -1.85901852 -1.2075525  -1.30583065 -1.74506282 -0.04813821 -0.75120669]\n",
      "benign 1\n"
     ]
    }
   ],
   "source": [
    "print(feature[568])\n",
    "print(data['target_names'][label[568]],label[568])"
   ]
  },
  {
   "cell_type": "code",
   "execution_count": 29,
   "metadata": {},
   "outputs": [],
   "source": [
    "df_frt = pd.DataFrame(feature , columns = data['feature_names'])\n",
    "df_lbl = pd.DataFrame(label , columns = ['label'])\n",
    "df = pd.concat([df_frt, df_lbl], axis=1)\n",
    "df = df.sample(frac = 1)\n",
    "\n",
    "feature = df.values[ : , : 30]\n",
    "label = df.values[ : ,30: ]"
   ]
  },
  {
   "cell_type": "code",
   "execution_count": 30,
   "metadata": {},
   "outputs": [
    {
     "data": {
      "text/html": [
       "<div>\n",
       "<style scoped>\n",
       "    .dataframe tbody tr th:only-of-type {\n",
       "        vertical-align: middle;\n",
       "    }\n",
       "\n",
       "    .dataframe tbody tr th {\n",
       "        vertical-align: top;\n",
       "    }\n",
       "\n",
       "    .dataframe thead th {\n",
       "        text-align: right;\n",
       "    }\n",
       "</style>\n",
       "<table border=\"1\" class=\"dataframe\">\n",
       "  <thead>\n",
       "    <tr style=\"text-align: right;\">\n",
       "      <th></th>\n",
       "      <th>mean radius</th>\n",
       "      <th>mean texture</th>\n",
       "      <th>mean perimeter</th>\n",
       "      <th>mean area</th>\n",
       "      <th>mean smoothness</th>\n",
       "      <th>mean compactness</th>\n",
       "      <th>mean concavity</th>\n",
       "      <th>mean concave points</th>\n",
       "      <th>mean symmetry</th>\n",
       "      <th>mean fractal dimension</th>\n",
       "      <th>...</th>\n",
       "      <th>worst texture</th>\n",
       "      <th>worst perimeter</th>\n",
       "      <th>worst area</th>\n",
       "      <th>worst smoothness</th>\n",
       "      <th>worst compactness</th>\n",
       "      <th>worst concavity</th>\n",
       "      <th>worst concave points</th>\n",
       "      <th>worst symmetry</th>\n",
       "      <th>worst fractal dimension</th>\n",
       "      <th>label</th>\n",
       "    </tr>\n",
       "  </thead>\n",
       "  <tbody>\n",
       "    <tr>\n",
       "      <th>298</th>\n",
       "      <td>0.037691</td>\n",
       "      <td>-0.260550</td>\n",
       "      <td>-0.030853</td>\n",
       "      <td>-0.061970</td>\n",
       "      <td>-2.177683</td>\n",
       "      <td>-0.988149</td>\n",
       "      <td>-0.804137</td>\n",
       "      <td>-0.907410</td>\n",
       "      <td>-0.644825</td>\n",
       "      <td>-0.983478</td>\n",
       "      <td>...</td>\n",
       "      <td>-0.067942</td>\n",
       "      <td>-0.043523</td>\n",
       "      <td>-0.107027</td>\n",
       "      <td>-1.662195</td>\n",
       "      <td>-0.238966</td>\n",
       "      <td>-0.555018</td>\n",
       "      <td>-0.598500</td>\n",
       "      <td>-0.428317</td>\n",
       "      <td>-0.398208</td>\n",
       "      <td>1</td>\n",
       "    </tr>\n",
       "    <tr>\n",
       "      <th>25</th>\n",
       "      <td>0.855652</td>\n",
       "      <td>-0.672441</td>\n",
       "      <td>0.989840</td>\n",
       "      <td>0.733241</td>\n",
       "      <td>1.582699</td>\n",
       "      <td>2.335941</td>\n",
       "      <td>1.683630</td>\n",
       "      <td>2.351917</td>\n",
       "      <td>4.484751</td>\n",
       "      <td>1.606484</td>\n",
       "      <td>...</td>\n",
       "      <td>-0.696519</td>\n",
       "      <td>1.344497</td>\n",
       "      <td>1.020322</td>\n",
       "      <td>0.970150</td>\n",
       "      <td>0.894635</td>\n",
       "      <td>0.542655</td>\n",
       "      <td>2.137720</td>\n",
       "      <td>1.885110</td>\n",
       "      <td>1.216609</td>\n",
       "      <td>0</td>\n",
       "    </tr>\n",
       "    <tr>\n",
       "      <th>408</th>\n",
       "      <td>1.097064</td>\n",
       "      <td>0.318890</td>\n",
       "      <td>1.063983</td>\n",
       "      <td>0.957925</td>\n",
       "      <td>0.515218</td>\n",
       "      <td>0.493857</td>\n",
       "      <td>0.392979</td>\n",
       "      <td>1.014241</td>\n",
       "      <td>0.658562</td>\n",
       "      <td>-0.298776</td>\n",
       "      <td>...</td>\n",
       "      <td>-0.043516</td>\n",
       "      <td>0.918559</td>\n",
       "      <td>0.823436</td>\n",
       "      <td>0.693984</td>\n",
       "      <td>0.758501</td>\n",
       "      <td>0.277832</td>\n",
       "      <td>1.260668</td>\n",
       "      <td>0.257622</td>\n",
       "      <td>0.060081</td>\n",
       "      <td>0</td>\n",
       "    </tr>\n",
       "    <tr>\n",
       "      <th>554</th>\n",
       "      <td>-0.354249</td>\n",
       "      <td>2.241047</td>\n",
       "      <td>-0.390031</td>\n",
       "      <td>-0.399850</td>\n",
       "      <td>-1.076753</td>\n",
       "      <td>-0.873682</td>\n",
       "      <td>-0.337092</td>\n",
       "      <td>-0.657467</td>\n",
       "      <td>-0.896740</td>\n",
       "      <td>-0.810531</td>\n",
       "      <td>...</td>\n",
       "      <td>1.638661</td>\n",
       "      <td>-0.548691</td>\n",
       "      <td>-0.500800</td>\n",
       "      <td>-0.423831</td>\n",
       "      <td>-0.586935</td>\n",
       "      <td>-0.135715</td>\n",
       "      <td>-0.756400</td>\n",
       "      <td>-0.855411</td>\n",
       "      <td>-0.638713</td>\n",
       "      <td>1</td>\n",
       "    </tr>\n",
       "    <tr>\n",
       "      <th>11</th>\n",
       "      <td>0.469393</td>\n",
       "      <td>-0.325708</td>\n",
       "      <td>0.479082</td>\n",
       "      <td>0.358672</td>\n",
       "      <td>0.052642</td>\n",
       "      <td>0.471115</td>\n",
       "      <td>0.134849</td>\n",
       "      <td>0.442131</td>\n",
       "      <td>0.110921</td>\n",
       "      <td>-0.280347</td>\n",
       "      <td>...</td>\n",
       "      <td>0.261002</td>\n",
       "      <td>0.870902</td>\n",
       "      <td>0.735540</td>\n",
       "      <td>0.316995</td>\n",
       "      <td>1.950627</td>\n",
       "      <td>0.596387</td>\n",
       "      <td>1.010951</td>\n",
       "      <td>1.441838</td>\n",
       "      <td>1.155652</td>\n",
       "      <td>0</td>\n",
       "    </tr>\n",
       "    <tr>\n",
       "      <th>...</th>\n",
       "      <td>...</td>\n",
       "      <td>...</td>\n",
       "      <td>...</td>\n",
       "      <td>...</td>\n",
       "      <td>...</td>\n",
       "      <td>...</td>\n",
       "      <td>...</td>\n",
       "      <td>...</td>\n",
       "      <td>...</td>\n",
       "      <td>...</td>\n",
       "      <td>...</td>\n",
       "      <td>...</td>\n",
       "      <td>...</td>\n",
       "      <td>...</td>\n",
       "      <td>...</td>\n",
       "      <td>...</td>\n",
       "      <td>...</td>\n",
       "      <td>...</td>\n",
       "      <td>...</td>\n",
       "      <td>...</td>\n",
       "      <td>...</td>\n",
       "    </tr>\n",
       "    <tr>\n",
       "      <th>441</th>\n",
       "      <td>0.892574</td>\n",
       "      <td>1.426574</td>\n",
       "      <td>0.841556</td>\n",
       "      <td>0.779031</td>\n",
       "      <td>-0.928729</td>\n",
       "      <td>0.124303</td>\n",
       "      <td>0.396746</td>\n",
       "      <td>0.217723</td>\n",
       "      <td>-1.258183</td>\n",
       "      <td>-1.237230</td>\n",
       "      <td>...</td>\n",
       "      <td>1.593064</td>\n",
       "      <td>0.760694</td>\n",
       "      <td>0.709172</td>\n",
       "      <td>0.492339</td>\n",
       "      <td>1.004687</td>\n",
       "      <td>1.110202</td>\n",
       "      <td>0.902842</td>\n",
       "      <td>-0.648335</td>\n",
       "      <td>-0.249694</td>\n",
       "      <td>0</td>\n",
       "    </tr>\n",
       "    <tr>\n",
       "      <th>297</th>\n",
       "      <td>-0.672344</td>\n",
       "      <td>-0.267531</td>\n",
       "      <td>-0.698958</td>\n",
       "      <td>-0.636479</td>\n",
       "      <td>0.236249</td>\n",
       "      <td>-0.856626</td>\n",
       "      <td>-0.777772</td>\n",
       "      <td>-0.355161</td>\n",
       "      <td>-0.703240</td>\n",
       "      <td>0.010262</td>\n",
       "      <td>...</td>\n",
       "      <td>-0.372460</td>\n",
       "      <td>-0.660090</td>\n",
       "      <td>-0.574808</td>\n",
       "      <td>-0.818354</td>\n",
       "      <td>-1.110223</td>\n",
       "      <td>-1.012222</td>\n",
       "      <td>-0.654838</td>\n",
       "      <td>-1.492816</td>\n",
       "      <td>-0.819922</td>\n",
       "      <td>0</td>\n",
       "    </tr>\n",
       "    <tr>\n",
       "      <th>443</th>\n",
       "      <td>-1.010321</td>\n",
       "      <td>-0.225644</td>\n",
       "      <td>-1.035894</td>\n",
       "      <td>-0.893017</td>\n",
       "      <td>-1.063232</td>\n",
       "      <td>-1.131801</td>\n",
       "      <td>-0.864652</td>\n",
       "      <td>-0.975248</td>\n",
       "      <td>2.045921</td>\n",
       "      <td>-0.725474</td>\n",
       "      <td>...</td>\n",
       "      <td>-0.385488</td>\n",
       "      <td>-1.129217</td>\n",
       "      <td>-0.904065</td>\n",
       "      <td>-1.509208</td>\n",
       "      <td>-1.201318</td>\n",
       "      <td>-1.114601</td>\n",
       "      <td>-1.406728</td>\n",
       "      <td>-0.326396</td>\n",
       "      <td>-0.919117</td>\n",
       "      <td>1</td>\n",
       "    </tr>\n",
       "    <tr>\n",
       "      <th>348</th>\n",
       "      <td>-0.754709</td>\n",
       "      <td>-0.758542</td>\n",
       "      <td>-0.780514</td>\n",
       "      <td>-0.717252</td>\n",
       "      <td>-0.398546</td>\n",
       "      <td>-0.861932</td>\n",
       "      <td>-0.790076</td>\n",
       "      <td>-0.662883</td>\n",
       "      <td>-0.648476</td>\n",
       "      <td>0.130758</td>\n",
       "      <td>...</td>\n",
       "      <td>-0.795854</td>\n",
       "      <td>-0.821827</td>\n",
       "      <td>-0.711573</td>\n",
       "      <td>0.908780</td>\n",
       "      <td>-0.905004</td>\n",
       "      <td>-0.834570</td>\n",
       "      <td>-0.748025</td>\n",
       "      <td>-0.080494</td>\n",
       "      <td>0.204162</td>\n",
       "      <td>1</td>\n",
       "    </tr>\n",
       "    <tr>\n",
       "      <th>215</th>\n",
       "      <td>-0.075915</td>\n",
       "      <td>-0.549106</td>\n",
       "      <td>-0.041562</td>\n",
       "      <td>-0.216121</td>\n",
       "      <td>0.444052</td>\n",
       "      <td>0.897523</td>\n",
       "      <td>0.128195</td>\n",
       "      <td>0.183159</td>\n",
       "      <td>1.074770</td>\n",
       "      <td>0.901935</td>\n",
       "      <td>...</td>\n",
       "      <td>0.204007</td>\n",
       "      <td>-0.085224</td>\n",
       "      <td>-0.229378</td>\n",
       "      <td>0.597545</td>\n",
       "      <td>1.162450</td>\n",
       "      <td>0.918301</td>\n",
       "      <td>0.773416</td>\n",
       "      <td>1.179757</td>\n",
       "      <td>1.216609</td>\n",
       "      <td>0</td>\n",
       "    </tr>\n",
       "  </tbody>\n",
       "</table>\n",
       "<p>569 rows × 31 columns</p>\n",
       "</div>"
      ],
      "text/plain": [
       "     mean radius  mean texture  mean perimeter  mean area  mean smoothness  \\\n",
       "298     0.037691     -0.260550       -0.030853  -0.061970        -2.177683   \n",
       "25      0.855652     -0.672441        0.989840   0.733241         1.582699   \n",
       "408     1.097064      0.318890        1.063983   0.957925         0.515218   \n",
       "554    -0.354249      2.241047       -0.390031  -0.399850        -1.076753   \n",
       "11      0.469393     -0.325708        0.479082   0.358672         0.052642   \n",
       "..           ...           ...             ...        ...              ...   \n",
       "441     0.892574      1.426574        0.841556   0.779031        -0.928729   \n",
       "297    -0.672344     -0.267531       -0.698958  -0.636479         0.236249   \n",
       "443    -1.010321     -0.225644       -1.035894  -0.893017        -1.063232   \n",
       "348    -0.754709     -0.758542       -0.780514  -0.717252        -0.398546   \n",
       "215    -0.075915     -0.549106       -0.041562  -0.216121         0.444052   \n",
       "\n",
       "     mean compactness  mean concavity  mean concave points  mean symmetry  \\\n",
       "298         -0.988149       -0.804137            -0.907410      -0.644825   \n",
       "25           2.335941        1.683630             2.351917       4.484751   \n",
       "408          0.493857        0.392979             1.014241       0.658562   \n",
       "554         -0.873682       -0.337092            -0.657467      -0.896740   \n",
       "11           0.471115        0.134849             0.442131       0.110921   \n",
       "..                ...             ...                  ...            ...   \n",
       "441          0.124303        0.396746             0.217723      -1.258183   \n",
       "297         -0.856626       -0.777772            -0.355161      -0.703240   \n",
       "443         -1.131801       -0.864652            -0.975248       2.045921   \n",
       "348         -0.861932       -0.790076            -0.662883      -0.648476   \n",
       "215          0.897523        0.128195             0.183159       1.074770   \n",
       "\n",
       "     mean fractal dimension  ...  worst texture  worst perimeter  worst area  \\\n",
       "298               -0.983478  ...      -0.067942        -0.043523   -0.107027   \n",
       "25                 1.606484  ...      -0.696519         1.344497    1.020322   \n",
       "408               -0.298776  ...      -0.043516         0.918559    0.823436   \n",
       "554               -0.810531  ...       1.638661        -0.548691   -0.500800   \n",
       "11                -0.280347  ...       0.261002         0.870902    0.735540   \n",
       "..                      ...  ...            ...              ...         ...   \n",
       "441               -1.237230  ...       1.593064         0.760694    0.709172   \n",
       "297                0.010262  ...      -0.372460        -0.660090   -0.574808   \n",
       "443               -0.725474  ...      -0.385488        -1.129217   -0.904065   \n",
       "348                0.130758  ...      -0.795854        -0.821827   -0.711573   \n",
       "215                0.901935  ...       0.204007        -0.085224   -0.229378   \n",
       "\n",
       "     worst smoothness  worst compactness  worst concavity  \\\n",
       "298         -1.662195          -0.238966        -0.555018   \n",
       "25           0.970150           0.894635         0.542655   \n",
       "408          0.693984           0.758501         0.277832   \n",
       "554         -0.423831          -0.586935        -0.135715   \n",
       "11           0.316995           1.950627         0.596387   \n",
       "..                ...                ...              ...   \n",
       "441          0.492339           1.004687         1.110202   \n",
       "297         -0.818354          -1.110223        -1.012222   \n",
       "443         -1.509208          -1.201318        -1.114601   \n",
       "348          0.908780          -0.905004        -0.834570   \n",
       "215          0.597545           1.162450         0.918301   \n",
       "\n",
       "     worst concave points  worst symmetry  worst fractal dimension  label  \n",
       "298             -0.598500       -0.428317                -0.398208      1  \n",
       "25               2.137720        1.885110                 1.216609      0  \n",
       "408              1.260668        0.257622                 0.060081      0  \n",
       "554             -0.756400       -0.855411                -0.638713      1  \n",
       "11               1.010951        1.441838                 1.155652      0  \n",
       "..                    ...             ...                      ...    ...  \n",
       "441              0.902842       -0.648335                -0.249694      0  \n",
       "297             -0.654838       -1.492816                -0.819922      0  \n",
       "443             -1.406728       -0.326396                -0.919117      1  \n",
       "348             -0.748025       -0.080494                 0.204162      1  \n",
       "215              0.773416        1.179757                 1.216609      0  \n",
       "\n",
       "[569 rows x 31 columns]"
      ]
     },
     "execution_count": 30,
     "metadata": {},
     "output_type": "execute_result"
    }
   ],
   "source": [
    "df"
   ]
  },
  {
   "cell_type": "code",
   "execution_count": 31,
   "metadata": {},
   "outputs": [],
   "source": [
    "#500 Training\n",
    "X_train = feature[:500]\n",
    "y_train = label[:500]\n",
    "\n",
    "#35 Validation\n",
    "X_val = feature[500:535]\n",
    "y_val = label[500:535]\n",
    "\n",
    "#34 Testing\n",
    "X_test = feature[535:]\n",
    "y_test = label[535:]"
   ]
  },
  {
   "cell_type": "code",
   "execution_count": 32,
   "metadata": {},
   "outputs": [],
   "source": [
    "model = Sequential()\n",
    "\n",
    "model.add(Dense(32, activation = 'relu', input_dim = 30))\n",
    "model.add(Dense(64, activation = 'relu'))\n",
    "model.add(Dense(128, activation = 'relu'))\n",
    "model.add(Dense(64, activation = 'relu'))\n",
    "model.add(Dense(32, activation = 'relu'))\n",
    "model.add(Dense(1, activation = 'sigmoid'))\n",
    "\n",
    "model.compile( loss = 'binary_crossentropy' , optimizer = 'adam' , metrics = ['accuracy'])"
   ]
  },
  {
   "cell_type": "code",
   "execution_count": 33,
   "metadata": {},
   "outputs": [
    {
     "name": "stdout",
     "output_type": "stream",
     "text": [
      "Epoch 1/10\n",
      "100/100 [==============================] - 1s 6ms/step - loss: 0.4808 - accuracy: 0.7425 - val_loss: 0.0399 - val_accuracy: 1.0000\n",
      "Epoch 2/10\n",
      "100/100 [==============================] - 0s 3ms/step - loss: 0.0893 - accuracy: 0.9716 - val_loss: 0.0138 - val_accuracy: 1.0000\n",
      "Epoch 3/10\n",
      "100/100 [==============================] - 0s 3ms/step - loss: 0.0563 - accuracy: 0.9752 - val_loss: 0.0220 - val_accuracy: 1.0000\n",
      "Epoch 4/10\n",
      "100/100 [==============================] - 0s 2ms/step - loss: 0.0811 - accuracy: 0.9654 - val_loss: 0.0101 - val_accuracy: 1.0000\n",
      "Epoch 5/10\n",
      "100/100 [==============================] - 0s 2ms/step - loss: 0.0256 - accuracy: 0.9848 - val_loss: 0.0223 - val_accuracy: 0.9714\n",
      "Epoch 6/10\n",
      "100/100 [==============================] - 0s 2ms/step - loss: 0.0191 - accuracy: 0.9955 - val_loss: 0.0134 - val_accuracy: 1.0000\n",
      "Epoch 7/10\n",
      "100/100 [==============================] - 0s 3ms/step - loss: 0.0194 - accuracy: 0.9886 - val_loss: 0.0086 - val_accuracy: 1.0000\n",
      "Epoch 8/10\n",
      "100/100 [==============================] - 0s 2ms/step - loss: 0.0061 - accuracy: 1.0000 - val_loss: 0.0063 - val_accuracy: 1.0000\n",
      "Epoch 9/10\n",
      "100/100 [==============================] - 0s 2ms/step - loss: 0.0024 - accuracy: 0.9993 - val_loss: 0.0439 - val_accuracy: 0.9714\n",
      "Epoch 10/10\n",
      "100/100 [==============================] - 0s 2ms/step - loss: 0.0576 - accuracy: 0.9917 - val_loss: 0.0143 - val_accuracy: 1.0000\n"
     ]
    },
    {
     "data": {
      "text/plain": [
       "<tensorflow.python.keras.callbacks.History at 0x7fe5dacd37c0>"
      ]
     },
     "execution_count": 33,
     "metadata": {},
     "output_type": "execute_result"
    }
   ],
   "source": [
    "model.fit( X_train , y_train, epochs = 10, batch_size = 5, validation_data = (X_val, y_val))"
   ]
  },
  {
   "cell_type": "code",
   "execution_count": 34,
   "metadata": {},
   "outputs": [
    {
     "name": "stdout",
     "output_type": "stream",
     "text": [
      "2/2 [==============================] - 0s 3ms/step - loss: 0.4428 - accuracy: 0.9118\n"
     ]
    },
    {
     "data": {
      "text/plain": [
       "[0.4428405165672302, 0.9117646813392639]"
      ]
     },
     "execution_count": 34,
     "metadata": {},
     "output_type": "execute_result"
    }
   ],
   "source": [
    "model.evaluate(X_test , y_test)"
   ]
  },
  {
   "cell_type": "code",
   "execution_count": 35,
   "metadata": {},
   "outputs": [
    {
     "name": "stdout",
     "output_type": "stream",
     "text": [
      "2/2 [==============================] - 0s 3ms/step - loss: 0.0143 - accuracy: 1.0000\n"
     ]
    },
    {
     "data": {
      "text/plain": [
       "[0.014328356832265854, 1.0]"
      ]
     },
     "execution_count": 35,
     "metadata": {},
     "output_type": "execute_result"
    }
   ],
   "source": [
    "model.evaluate(X_val , y_val)"
   ]
  },
  {
   "cell_type": "code",
   "execution_count": 36,
   "metadata": {},
   "outputs": [
    {
     "name": "stdout",
     "output_type": "stream",
     "text": [
      "-Benign\n",
      "*Banign\n",
      "-----------\n",
      "-Benign\n",
      "*Banign\n",
      "-----------\n",
      "-Malignant\n",
      "*Melignant\n",
      "-----------\n",
      "-Malignant\n",
      "*Melignant\n",
      "-----------\n",
      "-Benign\n",
      "*Banign\n",
      "-----------\n",
      "-Benign\n",
      "*Banign\n",
      "-----------\n",
      "-Benign\n",
      "*Banign\n",
      "-----------\n",
      "-Malignant\n",
      "*Melignant\n",
      "-----------\n",
      "-Malignant\n",
      "*Melignant\n",
      "-----------\n",
      "-Benign\n",
      "*Melignant\n",
      "-----------\n",
      "-Malignant\n",
      "*Melignant\n",
      "-----------\n",
      "-Benign\n",
      "*Banign\n",
      "-----------\n",
      "-Malignant\n",
      "*Melignant\n",
      "-----------\n",
      "-Benign\n",
      "*Banign\n",
      "-----------\n",
      "-Benign\n",
      "*Banign\n",
      "-----------\n",
      "-Malignant\n",
      "*Melignant\n",
      "-----------\n",
      "-Benign\n",
      "*Banign\n",
      "-----------\n",
      "-Malignant\n",
      "*Melignant\n",
      "-----------\n",
      "-Malignant\n",
      "*Melignant\n",
      "-----------\n",
      "-Malignant\n",
      "*Melignant\n",
      "-----------\n",
      "-Malignant\n",
      "*Melignant\n",
      "-----------\n",
      "-Malignant\n",
      "*Melignant\n",
      "-----------\n",
      "-Benign\n",
      "*Banign\n",
      "-----------\n",
      "-Benign\n",
      "*Banign\n",
      "-----------\n",
      "-Malignant\n",
      "*Melignant\n",
      "-----------\n",
      "-Malignant\n",
      "*Banign\n",
      "-----------\n",
      "-Benign\n",
      "*Banign\n",
      "-----------\n",
      "-Malignant\n",
      "*Melignant\n",
      "-----------\n",
      "-Benign\n",
      "*Banign\n",
      "-----------\n",
      "-Malignant\n",
      "*Melignant\n",
      "-----------\n"
     ]
    }
   ],
   "source": [
    "for i in range(30):\n",
    "  sample = X_test[i]\n",
    "  sample = np.reshape(sample, (1,30))\n",
    "\n",
    "  if (model.predict(sample)[0][0] > 0.5):\n",
    "    print(\"-Benign\")\n",
    "  else:\n",
    "    print(\"-Malignant\")\n",
    "\n",
    "  if (y_test[i] == 1):\n",
    "    print(\"*Banign\")\n",
    "  else:\n",
    "    print(\"*Melignant\")\n",
    "  print(\"-----------\")"
   ]
  },
  {
   "cell_type": "code",
   "execution_count": 37,
   "metadata": {},
   "outputs": [
    {
     "name": "stdout",
     "output_type": "stream",
     "text": [
      "23\n"
     ]
    }
   ],
   "source": [
    "t = 0\n",
    "for i in y_val:\n",
    "  if (i == 1):\n",
    "    t += 1\n",
    "\n",
    "print(t)"
   ]
  },
  {
   "cell_type": "code",
   "execution_count": 38,
   "metadata": {},
   "outputs": [
    {
     "name": "stdout",
     "output_type": "stream",
     "text": [
      "16\n"
     ]
    }
   ],
   "source": [
    "t = 0\n",
    "for i in y_test:\n",
    "  if (i == 1):\n",
    "    t += 1\n",
    "\n",
    "print(t)"
   ]
  },
  {
   "cell_type": "code",
   "execution_count": 39,
   "metadata": {},
   "outputs": [
    {
     "data": {
      "text/plain": [
       "array([ 0.00787548,  0.09563428,  0.0122707 ,  0.01919459,  0.00854185,\n",
       "        0.05204263,  0.05525357,  0.03046049, -0.10893735,  0.06049781,\n",
       "        0.05676279,  0.05395014,  0.0512881 ,  0.04604315,  0.09353642,\n",
       "        0.05627036,  0.05744029,  0.02216006,  0.06371513,  0.08328731,\n",
       "        0.02669687,  0.06411524,  0.02648322,  0.03701868,  0.06079422,\n",
       "        0.05207761,  0.06073112,  0.02234689, -0.00877554,  0.08215848])"
      ]
     },
     "execution_count": 39,
     "metadata": {},
     "output_type": "execute_result"
    }
   ],
   "source": [
    "X_test[0] * -.1"
   ]
  },
  {
   "cell_type": "code",
   "execution_count": null,
   "metadata": {},
   "outputs": [],
   "source": []
  }
 ],
 "metadata": {
  "kernelspec": {
   "display_name": "Python 3",
   "language": "python",
   "name": "python3"
  },
  "language_info": {
   "codemirror_mode": {
    "name": "ipython",
    "version": 3
   },
   "file_extension": ".py",
   "mimetype": "text/x-python",
   "name": "python",
   "nbconvert_exporter": "python",
   "pygments_lexer": "ipython3",
   "version": "3.8.5"
  }
 },
 "nbformat": 4,
 "nbformat_minor": 4
}
